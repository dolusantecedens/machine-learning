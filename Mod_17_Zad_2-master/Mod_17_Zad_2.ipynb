{
  "nbformat": 4,
  "nbformat_minor": 0,
  "metadata": {
    "colab": {
      "provenance": [],
      "collapsed_sections": []
    },
    "kernelspec": {
      "name": "python3",
      "display_name": "Python 3"
    },
    "language_info": {
      "name": "python"
    }
  },
  "cells": [
    {
      "cell_type": "code",
      "execution_count": 32,
      "metadata": {
        "colab": {
          "base_uri": "https://localhost:8080/"
        },
        "id": "z6PSQW937dBx",
        "outputId": "242698ca-cc46-4146-8cdb-0c7eab9e3014"
      },
      "outputs": [
        {
          "output_type": "stream",
          "name": "stdout",
          "text": [
            "Wyniki dla regresji grzbietowej bazy cyfr\n",
            "Traning score:  0.6750983720432664\n",
            "Testing score:  0.39829686898449745\n",
            "Wyniki dla regresji grzbietowej bazy irysów\n",
            "Training score:  0.942914076824477\n",
            "Testing score:  0.9230945565606476\n"
          ]
        }
      ],
      "source": [
        "from sklearn.datasets import load_digits\n",
        "from sklearn.datasets import load_iris\n",
        "from sklearn.model_selection import train_test_split\n",
        "from sklearn.linear_model import Ridge\n",
        "\n",
        "\n",
        "X, y = load_digits(return_X_y=True)\n",
        "X_train, X_test, y_train, y_test = \\\n",
        "train_test_split(X, y, test_size=0.9, random_state=44)\n",
        "\n",
        "X, y = load_iris(return_X_y=True)\n",
        "X_tr_ir, X_te_ir, y_tr_ir, y_te_ir = \\\n",
        "train_test_split(X, y, test_size = 0.8, random_state=45)\n",
        "\n",
        "rid = Ridge(alpha=.5)\n",
        "rid.fit(X_train,y_train)\n",
        "print(\"Wyniki dla regresji grzbietowej bazy cyfr\")\n",
        "print(\"Traning score: \", rid.score(X_train, y_train))\n",
        "print(\"Testing score: \", rid.score(X_test, y_test))\n",
        "\n",
        "rid = Ridge(alpha=.5)\n",
        "rid.fit(X_tr_ir, y_tr_ir)\n",
        "print(\"Wyniki dla regresji grzbietowej bazy irysów\")\n",
        "print(\"Training score: \", rid.score(X_tr_ir,y_tr_ir))\n",
        "print(\"Testing score: \", rid.score(X_te_ir,y_te_ir))"
      ]
    },
    {
      "cell_type": "markdown",
      "source": [
        "W przypadku rozpoznawania cyfr z bazy danych treningowych i testowych rozłożonych po 90%/10% klasyfikator regresji grzbietowej wykazał silny underfitting gdyż nawet dla danych testowych jego wynik był niski oraz lekki overfitting ponieważ trafność predykcji dla danych treningowych istotnie przewyższała trafność dla danych testowych.\n",
        "\n",
        "W przypadku rozpoznawania irysów z baz rozłożonych po 90% i 10% klasyfikator regresji grzbietowej działa poprawnie."
      ],
      "metadata": {
        "id": "XQKm19UcBljA"
      }
    },
    {
      "cell_type": "code",
      "source": [
        "from sklearn.linear_model import SGDClassifier\n",
        "\n",
        "\n",
        "sgd = SGDClassifier()\n",
        "sgd.fit(X_train, y_train)\n",
        "print(\"Wyniki dla stochastycznego opadania gradientowego bazy cyfr\")\n",
        "print(\"Traning score: \", sgd.score(X_train, y_train))\n",
        "print(\"Testing score: \", sgd.score(X_test, y_test))\n",
        "\n",
        "sgd = SGDClassifier()\n",
        "sgd.fit(X_tr_ir,y_tr_ir)\n",
        "print(\"Wyniki dla stochastycznego opadania gradientowego bazy fiołków\")\n",
        "print(\"Traning score: \", sgd.score(X_tr_ir,y_tr_ir))\n",
        "print(\"Testing score: \", sgd.score(X_te_ir, y_te_ir))"
      ],
      "metadata": {
        "colab": {
          "base_uri": "https://localhost:8080/"
        },
        "id": "X0CxpMOZGpRu",
        "outputId": "d6c38445-97e8-4664-e719-6e179f4ff403"
      },
      "execution_count": 34,
      "outputs": [
        {
          "output_type": "stream",
          "name": "stdout",
          "text": [
            "Wyniki dla stochastycznego opadania gradientowego bazy cyfr\n",
            "Traning score:  0.9776536312849162\n",
            "Testing score:  0.8689740420271941\n",
            "Wyniki dla stochastycznego opadania gradientowego bazy fiołków\n",
            "Traning score:  0.8\n",
            "Testing score:  0.7833333333333333\n"
          ]
        }
      ]
    },
    {
      "cell_type": "markdown",
      "source": [
        "W przypadku rozpoznawania cyfr (rozłożenie 90%/10%) przez klasyfikatoa stochastycznego opadania gradientowego występuje overfitting gdyż trafność predykcji dla danych treningowych jest niemal doskonała.\n",
        "\n",
        "W przypadku rozpoznawania irysów (rozłożenie 80%/20%) występuje underfitting gdyż trafność predykcji testowych i treningowych znacząco odchodzi od idealnych."
      ],
      "metadata": {
        "id": "jDLsPH4qGyDT"
      }
    },
    {
      "cell_type": "code",
      "source": [
        "from sklearn.linear_model import LinearRegression\n",
        "\n",
        "\n",
        "cls = LinearRegression()\n",
        "cls.fit(X_train, y_train)\n",
        "print(\"Wyniki dla regresji liniowej bazy cyfr\")\n",
        "print(\"Training score: \", cls.score(X_train, y_train))\n",
        "print(\"Testing score: \", cls.score(X_test, y_test))\n",
        "\n",
        "cls = LinearRegression()\n",
        "cls.fit(X_tr_ir,y_tr_ir)\n",
        "print(\"Wyniki dla regresjii liniowej bazy irysów\")\n",
        "print(\"Traning score: \", cls.score(X_tr_ir,y_tr_ir))\n",
        "print(\"Testing score: \", cls.score(X_te_ir,y_te_ir))"
      ],
      "metadata": {
        "colab": {
          "base_uri": "https://localhost:8080/"
        },
        "id": "ykPfl-ARH3k5",
        "outputId": "2f18b54d-4102-4924-dfab-64a255af12ac"
      },
      "execution_count": 36,
      "outputs": [
        {
          "output_type": "stream",
          "name": "stdout",
          "text": [
            "Wyniki dla regresji liniowej bazy cyfr\n",
            "Training score:  -0.552100832865482\n",
            "Testing score:  -1.9398439507111296\n",
            "Wyniki dla regresjii liniowej bazy irysów\n",
            "Traning score:  0.9455864428815077\n",
            "Testing score:  0.9165894143587225\n"
          ]
        }
      ]
    },
    {
      "cell_type": "markdown",
      "source": [
        "W przypadku rozpoznawania cyfr (90%/10%) występuje znaczny underfitting gdyż model dokonuje wyborów o mniejszej trafności niż wybór losowy, niemniej występuje też overfitting gdyż różnica między trafnością prognozy a wynikiem losowym znacząco mniejsza w przypadku danych testowych.\n",
        "\n",
        "Niemniej w przypadku rozpoznawania rodzajów irysów (80%/20%) przewidywania zdają się być mniej więcej poprawne."
      ],
      "metadata": {
        "id": "KkGXIVEGJeYs"
      }
    }
  ]
}